{
 "cells": [
  {
   "cell_type": "markdown",
   "metadata": {},
   "source": [
    "# Li intercalation energies into anion-substituted anatase TiO<sub>2</sub>\n",
    "\n",
    "Benjamin J. Morgan\n",
    "\n",
    "This notebook contains the calculation of lithium-intercalation energies into anion-substituted anatase TiO<sub>2</sub>. The intercalated systems are 3×3×1 supercells of anatase TiO<sub>2</sub>, containing 1 Ti vacancy, with four charge-compensating *X* anions in adjacent equatorial sites, to give a defect cluster [*V*<sub>Ti</sub>+4*X*<sub>O</sub>]. The substituent anions, *X*, are either OH or F.\n",
    "\n",
    "The intercalation energies are calculated from VASP data, contained in the dataset [&ldquo;TODO&rdquo;](TODO). These calculations are described in the dataset `README` and in the paper [&ldquo;TODO&rdquo;](TODO).\n",
    "\n",
    "The calculated energies are compared to the intercalation energy into stoichiometric anatase TiO<sub>2</sub> (1 Li in a 3×3×1 supercell)."
   ]
  },
  {
   "cell_type": "code",
   "execution_count": 1,
   "metadata": {},
   "outputs": [],
   "source": [
    "import pandas as pd\n",
    "import numpy as np\n",
    "from vasppy.calculation import *\n",
    "from itertools import product\n",
    "\n",
    "import matplotlib.pyplot as plt\n",
    "%matplotlib inline\n",
    "%config InlineBackend.figure_format = 'retina'"
   ]
  },
  {
   "cell_type": "code",
   "execution_count": 2,
   "metadata": {},
   "outputs": [],
   "source": [
    "# import figure_formatting\n",
    "from figure_formatting import rcParams\n",
    "from figure_formatting import master_formatting, nearly_black, tableau10\n",
    "\n",
    "rcParams.update( master_formatting )"
   ]
  },
  {
   "cell_type": "code",
   "execution_count": 3,
   "metadata": {},
   "outputs": [],
   "source": [
    "def select_entries( keys, fulldict ):\n",
    "    return dict( ( k, fulldict[k] ) for k in keys )"
   ]
  },
  {
   "cell_type": "code",
   "execution_count": 4,
   "metadata": {},
   "outputs": [],
   "source": [
    "# load calculation data\n",
    "all_stoichiometric = import_calculations_from_file( '../Data/stoichiometric_anatase.yaml' )\n",
    "stoichiometric = select_entries( [ 'stoichiometric anatase',\n",
    "                                   'stoichiometric anatase + Li',\n",
    "                                   'stoichiometric anatase + Mg',\n",
    "                                   'stoichiometric anatase + Al',\n",
    "                                   'stoichiometric anatase + Ca',\n",
    "                                   'stoichiometric anatase + Na'],\n",
    "                                all_stoichiometric )\n",
    "                                \n",
    "all_tio2_calculations = import_calculations_from_file( '../Data/vacancy_intercalation.yaml' )\n",
    "calc_ions = [ '+ Li', '+ Mg', '+ Al', '+ Na', '+ Ca', 'stoichiometric' ]\n",
    "calc_anions = [ '4OH', '1F+3OH', '2F+2OH cis', '2F+2OH trans', '3F+1OH', '4F' ]\n",
    "tio2_calculations = []\n",
    "\n",
    "tio2_calculation_strings = [ 'TiO2 {} {}'.format( a, i ) for a, i in product( calc_anions, calc_ions ) ]\n",
    "tio2_calculations = select_entries( tio2_calculation_strings, all_tio2_calculations )\n",
    "all_elemental_reference = import_calculations_from_file( '../Data/elemental_reference.yaml' )\n",
    "elemental_reference = select_entries( ['elemental Li', 'elemental Mg', 'elemental Al', 'elemental Na', 'elemental Ca'], all_elemental_reference )\n",
    "\n",
    "calculations = {**stoichiometric, **tio2_calculations, **elemental_reference}"
   ]
  },
  {
   "cell_type": "code",
   "execution_count": 5,
   "metadata": {},
   "outputs": [
    {
     "name": "stdout",
     "output_type": "stream",
     "text": [
      "stoichiometric anatase\n",
      "stoichiometric anatase + Li\n",
      "stoichiometric anatase + Mg\n",
      "stoichiometric anatase + Al\n",
      "stoichiometric anatase + Ca\n",
      "stoichiometric anatase + Na\n",
      "TiO2 4OH + Li\n",
      "TiO2 4OH + Mg\n",
      "TiO2 4OH + Al\n",
      "TiO2 4OH + Na\n",
      "TiO2 4OH + Ca\n",
      "TiO2 4OH stoichiometric\n",
      "TiO2 1F+3OH + Li\n",
      "TiO2 1F+3OH + Mg\n",
      "TiO2 1F+3OH + Al\n",
      "TiO2 1F+3OH + Na\n",
      "TiO2 1F+3OH + Ca\n",
      "TiO2 1F+3OH stoichiometric\n",
      "TiO2 2F+2OH cis + Li\n",
      "TiO2 2F+2OH cis + Mg\n",
      "TiO2 2F+2OH cis + Al\n",
      "TiO2 2F+2OH cis + Na\n",
      "TiO2 2F+2OH cis + Ca\n",
      "TiO2 2F+2OH cis stoichiometric\n",
      "TiO2 2F+2OH trans + Li\n",
      "TiO2 2F+2OH trans + Mg\n",
      "TiO2 2F+2OH trans + Al\n",
      "TiO2 2F+2OH trans + Na\n",
      "TiO2 2F+2OH trans + Ca\n",
      "TiO2 2F+2OH trans stoichiometric\n",
      "TiO2 3F+1OH + Li\n",
      "TiO2 3F+1OH + Mg\n",
      "TiO2 3F+1OH + Al\n",
      "TiO2 3F+1OH + Na\n",
      "TiO2 3F+1OH + Ca\n",
      "TiO2 3F+1OH stoichiometric\n",
      "TiO2 4F + Li\n",
      "TiO2 4F + Mg\n",
      "TiO2 4F + Al\n",
      "TiO2 4F + Na\n",
      "TiO2 4F + Ca\n",
      "TiO2 4F stoichiometric\n",
      "elemental Li\n",
      "elemental Mg\n",
      "elemental Al\n",
      "elemental Na\n",
      "elemental Ca\n"
     ]
    }
   ],
   "source": [
    "for c in calculations:\n",
    "    print( c )"
   ]
  },
  {
   "cell_type": "code",
   "execution_count": 6,
   "metadata": {},
   "outputs": [],
   "source": [
    "ions = [ 'Li', 'Na', 'Mg', 'Ca', 'Al' ]\n",
    "for i in ions:\n",
    "    calculations['elemental {}'.format(i)] /= calculations['elemental {}'.format(i)].stoichiometry[i]"
   ]
  },
  {
   "cell_type": "code",
   "execution_count": 7,
   "metadata": {},
   "outputs": [
    {
     "ename": "ValueError",
     "evalue": "reaction is not balanced: {'Ca': -1.0, 'Mg': 1}",
     "output_type": "error",
     "traceback": [
      "\u001b[0;31m---------------------------------------------------------------------------\u001b[0m",
      "\u001b[0;31mValueError\u001b[0m                                Traceback (most recent call last)",
      "\u001b[0;32m<ipython-input-7-cdb1128c1fb6>\u001b[0m in \u001b[0;36m<module>\u001b[0;34m()\u001b[0m\n\u001b[1;32m     10\u001b[0m \u001b[0;31m#     print( n_OH, string )\u001b[0m\u001b[0;34m\u001b[0m\u001b[0;34m\u001b[0m\u001b[0m\n\u001b[1;32m     11\u001b[0m     intercalation_energies = [ delta_E( [ calculations['TiO2 {} stoichiometric'.format( string )], calculations['elemental {}'.format(i)] ], \n\u001b[0;32m---> 12\u001b[0;31m                                     [ calculations['TiO2 {} + {}'.format( string, i ) ] ] ) for i in ions ]\n\u001b[0m\u001b[1;32m     13\u001b[0m     \u001b[0mto_plot\u001b[0m\u001b[0;34m.\u001b[0m\u001b[0mappend\u001b[0m\u001b[0;34m(\u001b[0m \u001b[0;34m[\u001b[0m\u001b[0mn_F\u001b[0m\u001b[0;34m]\u001b[0m \u001b[0;34m+\u001b[0m \u001b[0mintercalation_energies\u001b[0m \u001b[0;34m)\u001b[0m\u001b[0;34m\u001b[0m\u001b[0m\n\u001b[1;32m     14\u001b[0m \u001b[0;34m\u001b[0m\u001b[0m\n",
      "\u001b[0;32m<ipython-input-7-cdb1128c1fb6>\u001b[0m in \u001b[0;36m<listcomp>\u001b[0;34m(.0)\u001b[0m\n\u001b[1;32m     10\u001b[0m \u001b[0;31m#     print( n_OH, string )\u001b[0m\u001b[0;34m\u001b[0m\u001b[0;34m\u001b[0m\u001b[0m\n\u001b[1;32m     11\u001b[0m     intercalation_energies = [ delta_E( [ calculations['TiO2 {} stoichiometric'.format( string )], calculations['elemental {}'.format(i)] ], \n\u001b[0;32m---> 12\u001b[0;31m                                     [ calculations['TiO2 {} + {}'.format( string, i ) ] ] ) for i in ions ]\n\u001b[0m\u001b[1;32m     13\u001b[0m     \u001b[0mto_plot\u001b[0m\u001b[0;34m.\u001b[0m\u001b[0mappend\u001b[0m\u001b[0;34m(\u001b[0m \u001b[0;34m[\u001b[0m\u001b[0mn_F\u001b[0m\u001b[0;34m]\u001b[0m \u001b[0;34m+\u001b[0m \u001b[0mintercalation_energies\u001b[0m \u001b[0;34m)\u001b[0m\u001b[0;34m\u001b[0m\u001b[0m\n\u001b[1;32m     14\u001b[0m \u001b[0;34m\u001b[0m\u001b[0m\n",
      "\u001b[0;32m~/source/vasppy/vasppy/calculation.py\u001b[0m in \u001b[0;36mdelta_E\u001b[0;34m(reactants, products, check_balance)\u001b[0m\n\u001b[1;32m     79\u001b[0m     \u001b[0;32mif\u001b[0m \u001b[0mcheck_balance\u001b[0m\u001b[0;34m:\u001b[0m\u001b[0;34m\u001b[0m\u001b[0m\n\u001b[1;32m     80\u001b[0m         \u001b[0;32mif\u001b[0m \u001b[0mdelta_stoichiometry\u001b[0m\u001b[0;34m(\u001b[0m \u001b[0mreactants\u001b[0m\u001b[0;34m,\u001b[0m \u001b[0mproducts\u001b[0m \u001b[0;34m)\u001b[0m \u001b[0;34m!=\u001b[0m \u001b[0;34m{\u001b[0m\u001b[0;34m}\u001b[0m\u001b[0;34m:\u001b[0m\u001b[0;34m\u001b[0m\u001b[0m\n\u001b[0;32m---> 81\u001b[0;31m             \u001b[0;32mraise\u001b[0m \u001b[0mValueError\u001b[0m\u001b[0;34m(\u001b[0m \u001b[0;34m\"reaction is not balanced: {}\"\u001b[0m\u001b[0;34m.\u001b[0m\u001b[0mformat\u001b[0m\u001b[0;34m(\u001b[0m \u001b[0mdelta_stoichiometry\u001b[0m\u001b[0;34m(\u001b[0m \u001b[0mreactants\u001b[0m\u001b[0;34m,\u001b[0m \u001b[0mproducts\u001b[0m\u001b[0;34m)\u001b[0m \u001b[0;34m)\u001b[0m \u001b[0;34m)\u001b[0m\u001b[0;34m\u001b[0m\u001b[0m\n\u001b[0m\u001b[1;32m     82\u001b[0m     \u001b[0;32mreturn\u001b[0m \u001b[0msum\u001b[0m\u001b[0;34m(\u001b[0m \u001b[0;34m[\u001b[0m \u001b[0mr\u001b[0m\u001b[0;34m.\u001b[0m\u001b[0menergy\u001b[0m \u001b[0;32mfor\u001b[0m \u001b[0mr\u001b[0m \u001b[0;32min\u001b[0m \u001b[0mproducts\u001b[0m \u001b[0;34m]\u001b[0m \u001b[0;34m)\u001b[0m \u001b[0;34m-\u001b[0m \u001b[0msum\u001b[0m\u001b[0;34m(\u001b[0m \u001b[0;34m[\u001b[0m \u001b[0mr\u001b[0m\u001b[0;34m.\u001b[0m\u001b[0menergy\u001b[0m \u001b[0;32mfor\u001b[0m \u001b[0mr\u001b[0m \u001b[0;32min\u001b[0m \u001b[0mreactants\u001b[0m \u001b[0;34m]\u001b[0m \u001b[0;34m)\u001b[0m\u001b[0;34m\u001b[0m\u001b[0m\n\u001b[1;32m     83\u001b[0m \u001b[0;34m\u001b[0m\u001b[0m\n",
      "\u001b[0;31mValueError\u001b[0m: reaction is not balanced: {'Ca': -1.0, 'Mg': 1}"
     ]
    }
   ],
   "source": [
    "to_calculate = [ [ 4, '4F' ],\n",
    "                 [ 3, '3F+1OH' ],\n",
    "                 [ 2, '2F+2OH cis' ],\n",
    "                 [ 2, '2F+2OH trans' ],\n",
    "                 [ 1, '1F+3OH' ],\n",
    "                 [ 0, '4OH' ] ]\n",
    "\n",
    "to_plot = []\n",
    "for n_F, string in to_calculate:\n",
    "#     print( n_OH, string )\n",
    "    intercalation_energies = [ delta_E( [ calculations['TiO2 {} stoichiometric'.format( string )], calculations['elemental {}'.format(i)] ], \n",
    "                                    [ calculations['TiO2 {} + {}'.format( string, i ) ] ] ) for i in ions ]\n",
    "    to_plot.append( [n_F] + intercalation_energies )\n",
    "    \n",
    "anatase_intercalation_energies = [ delta_E( [ calculations['stoichiometric anatase'], calculations['elemental {}'.format(i)] ], \n",
    "                                            [ calculations['stoichiometric anatase + {}'.format( i ) ] ] )  for i in ions ] \n",
    "to_plot.append( ['stoich'] + anatase_intercalation_energies )"
   ]
  },
  {
   "cell_type": "code",
   "execution_count": null,
   "metadata": {},
   "outputs": [],
   "source": [
    "df = pd.DataFrame( to_plot, columns=[ 'n_F' ]+ions )\n",
    "df.round(3)"
   ]
  },
  {
   "cell_type": "code",
   "execution_count": null,
   "metadata": {},
   "outputs": [],
   "source": [
    "%%capture --no-stdout --no-display error\n",
    "labels = [ 'a', 'b', 'c', 'd', 'e']\n",
    "for c, i in enumerate( ions ):\n",
    "    fig, ax = plt.subplots(1, 1, figsize=(5,5))\n",
    "    ax.plot( df['n_F'][:-1], df[i][:-1], 'o', color=tableau10[c], clip_on=False, zorder=10 )\n",
    "    ax.axhline( df[i].values[-1], linestyle='--', color=tableau10[c] )\n",
    "    ax.set_xticks( [ 0, 1, 2, 3, 4 ], [ r'4OH', '3OH + F','2OH + 2F','OH + 3F','4F'] )\n",
    "    ax.set_xlim( 0, 4 )\n",
    "    ax.set_xticks( [ 0, 1, 2, 3, 4 ] )\n",
    "    ax.set_xticklabels( [ r'4OH', '3OH + F','2OH + 2F','OH + 3F','4F'] )\n",
    "    ax.set_yticks( [ -4.0, -3.0, -2.0, -1.0, 0.0, +1.0 ] )\n",
    "    ax.set_ylim( -4, 1.0 )\n",
    "    ax.grid( axis='x', color='grey', linestyle='--')\n",
    "    ax.set_ylabel( 'Intercalation energy [eV]' )\n",
    "    ax.set_xlabel( r'Coordination anions, $X$,  in $V_\\mathrm{Ti}$O$_2X_4$.' )\n",
    "    ax.set_title('{} intercalation energies'.format( i ) )\n",
    "    plt.savefig( '../figures/{}_intercalation_energies.pdf'.format( i ) )"
   ]
  },
  {
   "cell_type": "code",
   "execution_count": null,
   "metadata": {},
   "outputs": [],
   "source": [
    "%%capture --no-stdout --no-display error\n",
    "fig, ax = plt.subplots(1, 5, figsize=(15,4.3))\n",
    "for c, i in enumerate( ions ):\n",
    "    ax[c].plot( df['n_F'][:-1], df[i][:-1], 'o', color=tableau10[c], clip_on=False, zorder=10 )\n",
    "    ax[c].axhline( df[i].values[-1], linestyle='--', color=tableau10[c] )\n",
    "    ax[c].set_xticks( [ 0, 1, 2, 3, 4 ], [ r'4OH', '3OH + F','2OH + 2F','OH + 3F','4F'] )\n",
    "    ax[c].set_xlim( 0, 4 )\n",
    "    ax[c].set_xticks( [ 0, 1, 2, 3, 4 ] )\n",
    "    ax[c].set_xticklabels( [ r'4OH', '3OH + F','2OH + 2F','OH + 3F','4F'], rotation='vertical' )\n",
    "    ax[c].set_yticks( [ -4.0, -3.0, -2.0, -1.0, 0.0, +1.0 ] )\n",
    "    ax[c].set_ylim( -4, 1.0 )\n",
    "    ax[c].grid( axis='x', color='grey', linestyle='--')\n",
    "#     ax[c].set_xlabel( r'Coordination anions, $X$,  in $V_\\mathrm{Ti}$O$_2X_4$.' )\n",
    "    ax[c].set_title('({}) {} intercalation'.format( labels[c], i ), loc='left')\n",
    "ax[0].set_ylabel( 'Intercalation energy [eV]' )\n",
    "plt.tight_layout()\n",
    "plt.savefig( '../figures/F_TiO2_intercalation_energies.pdf' )"
   ]
  },
  {
   "cell_type": "code",
   "execution_count": null,
   "metadata": {},
   "outputs": [],
   "source": [
    "error.stderr"
   ]
  },
  {
   "cell_type": "code",
   "execution_count": null,
   "metadata": {},
   "outputs": [],
   "source": []
  }
 ],
 "metadata": {
  "kernelspec": {
   "display_name": "Python 3",
   "language": "python",
   "name": "python3"
  },
  "language_info": {
   "codemirror_mode": {
    "name": "ipython",
    "version": 3
   },
   "file_extension": ".py",
   "mimetype": "text/x-python",
   "name": "python",
   "nbconvert_exporter": "python",
   "pygments_lexer": "ipython3",
   "version": "3.6.1"
  }
 },
 "nbformat": 4,
 "nbformat_minor": 2
}
