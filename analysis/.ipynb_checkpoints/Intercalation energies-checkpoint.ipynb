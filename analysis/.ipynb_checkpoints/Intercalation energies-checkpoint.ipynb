{
 "cells": [
  {
   "cell_type": "markdown",
   "metadata": {},
   "source": [
    "# Li intercalation energies into anion-substituted anatase TiO<sub>2</sub>\n",
    "\n",
    "Benjamin J. Morgan\n",
    "\n",
    "This notebook contains the calculation of lithium-intercalation energies into anion-substituted anatase TiO<sub>2</sub>. The intercalated systems are 3×3×1 supercells of anatase TiO<sub>2</sub>, containing 1 Ti vacancy, with four charge-compensating *X* anions in adjacent equatorial sites, to give a defect cluster [*V*<sub>Ti</sub>+4*X*<sub>O</sub>]. The substituent anions, *X*, are either OH or F.\n",
    "\n",
    "The intercalation energies are calculated from VASP data, contained in the dataset [&ldquo;TODO&rdquo;](TODO). These calculations are described in the dataset `README` and in the paper [&ldquo;TODO&rdquo;](TODO).\n",
    "\n",
    "The calculated energies are compared to the intercalation energy into stoichiometric anatase TiO<sub>2</sub> (1 Li in a 3×3×1 supercell)."
   ]
  },
  {
   "cell_type": "code",
   "execution_count": 1,
   "metadata": {},
   "outputs": [],
   "source": [
    "import pandas as pd\n",
    "import numpy as np\n",
    "from vasppy.calculation import *\n",
    "import matplotlib.pyplot as plt\n",
    "%matplotlib inline\n",
    "%config InlineBackend.figure_format = 'retina'"
   ]
  },
  {
   "cell_type": "code",
   "execution_count": 2,
   "metadata": {},
   "outputs": [],
   "source": [
    "import figure_formatting\n",
    "import figure_formatting\n",
    "from figure_formatting import set_rcParams\n",
    "from figure_formatting import master_formatting, light_blue, nearly_black\n",
    "\n",
    "%matplotlib inline\n",
    "%config InlineBackend.figure_format='retina'\n",
    "\n",
    "set_rcParams( master_formatting )"
   ]
  },
  {
   "cell_type": "code",
   "execution_count": 3,
   "metadata": {},
   "outputs": [],
   "source": [
    "def select_entries( keys, fulldict ):\n",
    "    return dict( ( k, fulldict[k] ) for k in keys )"
   ]
  },
  {
   "cell_type": "code",
   "execution_count": 4,
   "metadata": {},
   "outputs": [],
   "source": [
    "# load calculation data\n",
    "all_stoichiometric = import_calculations_from_file( '../Data/stoichiometric/stoichiometric_anatase.yaml' )\n",
    "stoichiometric = select_entries( [ 'stoichiometric anatase',\n",
    "                                   'stoichiometric anatase + Li'],\n",
    "                                all_stoichiometric )\n",
    "                                \n",
    "all_tio2_calculations = import_calculations_from_file( '../Data/vacancy_intercalation/vacancy_intercalation.yaml' )\n",
    "tio2_calculations = select_entries( [ 'TiO2 4OH + Li', \n",
    "                                      'TiO2 4OH stoichiometric',\n",
    "                                      'TiO2 1F+3OH + Li', \n",
    "                                      'TiO2 1F+3OH stoichiometric',\n",
    "                                      'TiO2 2F+2OH cis + Li',\n",
    "                                      'TiO2 2F+2OH cis stoichiometric',\n",
    "                                      'TiO2 2F+2OH trans + Li',\n",
    "                                      'TiO2 2F+2OH trans stoichiometric',\n",
    "                                      'TiO2 3F+1OH + Li',\n",
    "                                      'TiO2 3F+1OH stoichiometric',\n",
    "                                      'TiO2 4F + Li',\n",
    "                                      'TiO2 4F stoichiometric' ],\n",
    "                                    all_tio2_calculations )\n",
    "all_elemental_reference = import_calculations_from_file( '../Data/elemental_reference/elemental_reference.yaml' )\n",
    "elemental_reference = select_entries( ['elemental Li'], all_elemental_reference )\n",
    "\n",
    "calculations = {**stoichiometric, **tio2_calculations, **elemental_reference}"
   ]
  },
  {
   "cell_type": "code",
   "execution_count": 5,
   "metadata": {},
   "outputs": [
    {
     "name": "stdout",
     "output_type": "stream",
     "text": [
      "stoichiometric anatase\n",
      "stoichiometric anatase + Li\n",
      "TiO2 4OH + Li\n",
      "TiO2 4OH stoichiometric\n",
      "TiO2 1F+3OH + Li\n",
      "TiO2 1F+3OH stoichiometric\n",
      "TiO2 2F+2OH cis + Li\n",
      "TiO2 2F+2OH cis stoichiometric\n",
      "TiO2 2F+2OH trans + Li\n",
      "TiO2 2F+2OH trans stoichiometric\n",
      "TiO2 3F+1OH + Li\n",
      "TiO2 3F+1OH stoichiometric\n",
      "TiO2 4F + Li\n",
      "TiO2 4F stoichiometric\n",
      "elemental Li\n"
     ]
    }
   ],
   "source": [
    "for c in calculations:\n",
    "    print( c )"
   ]
  },
  {
   "cell_type": "code",
   "execution_count": 6,
   "metadata": {},
   "outputs": [],
   "source": [
    "calculations['elemental Li'] /= calculations['elemental Li'].stoichiometry['Li']"
   ]
  },
  {
   "cell_type": "code",
   "execution_count": 7,
   "metadata": {},
   "outputs": [],
   "source": [
    "to_calculate = [ [ 4, '4F' ],\n",
    "                 [ 3, '3F+1OH' ],\n",
    "                 [ 2, '2F+2OH cis' ],\n",
    "                 [ 2, '2F+2OH trans' ],\n",
    "                 [ 1, '1F+3OH' ],\n",
    "                 [ 0, '4OH' ] ]\n",
    "\n",
    "to_plot = []\n",
    "for n_F, string in to_calculate:\n",
    "#     print( n_OH, string )\n",
    "    intercalation_energy = delta_E( [ calculations['TiO2 {} stoichiometric'.format( string )], calculations['elemental Li'] ], \n",
    "                                    [ calculations['TiO2 {} + Li'.format( string ) ] ] ) \n",
    "    to_plot.append( [ n_F, intercalation_energy ] )\n"
   ]
  },
  {
   "cell_type": "code",
   "execution_count": 8,
   "metadata": {},
   "outputs": [
    {
     "data": {
      "text/html": [
       "<div>\n",
       "<style>\n",
       "    .dataframe thead tr:only-child th {\n",
       "        text-align: right;\n",
       "    }\n",
       "\n",
       "    .dataframe thead th {\n",
       "        text-align: left;\n",
       "    }\n",
       "\n",
       "    .dataframe tbody tr th {\n",
       "        vertical-align: top;\n",
       "    }\n",
       "</style>\n",
       "<table border=\"1\" class=\"dataframe\">\n",
       "  <thead>\n",
       "    <tr style=\"text-align: right;\">\n",
       "      <th></th>\n",
       "      <th>n_F</th>\n",
       "      <th>E_int</th>\n",
       "    </tr>\n",
       "  </thead>\n",
       "  <tbody>\n",
       "    <tr>\n",
       "      <th>0</th>\n",
       "      <td>4</td>\n",
       "      <td>-2.683</td>\n",
       "    </tr>\n",
       "    <tr>\n",
       "      <th>1</th>\n",
       "      <td>3</td>\n",
       "      <td>-1.975</td>\n",
       "    </tr>\n",
       "    <tr>\n",
       "      <th>2</th>\n",
       "      <td>2</td>\n",
       "      <td>-1.851</td>\n",
       "    </tr>\n",
       "    <tr>\n",
       "      <th>3</th>\n",
       "      <td>2</td>\n",
       "      <td>-1.792</td>\n",
       "    </tr>\n",
       "    <tr>\n",
       "      <th>4</th>\n",
       "      <td>1</td>\n",
       "      <td>-1.455</td>\n",
       "    </tr>\n",
       "    <tr>\n",
       "      <th>5</th>\n",
       "      <td>0</td>\n",
       "      <td>-1.336</td>\n",
       "    </tr>\n",
       "  </tbody>\n",
       "</table>\n",
       "</div>"
      ],
      "text/plain": [
       "   n_F  E_int\n",
       "0    4 -2.683\n",
       "1    3 -1.975\n",
       "2    2 -1.851\n",
       "3    2 -1.792\n",
       "4    1 -1.455\n",
       "5    0 -1.336"
      ]
     },
     "execution_count": 8,
     "metadata": {},
     "output_type": "execute_result"
    }
   ],
   "source": [
    "df = pd.DataFrame( to_plot, columns=[ 'n_F', 'E_int' ] )\n",
    "df.round(3)"
   ]
  },
  {
   "cell_type": "code",
   "execution_count": 9,
   "metadata": {},
   "outputs": [],
   "source": [
    "anatase_intercalation_energy = delta_E( [ calculations['stoichiometric anatase'], calculations['elemental Li'] ], \n",
    "                                        [ calculations['stoichiometric anatase + Li'.format( string ) ] ] ) "
   ]
  },
  {
   "cell_type": "code",
   "execution_count": 13,
   "metadata": {},
   "outputs": [
    {
     "data": {
      "image/png": "[encoded data removed]",
      "text/plain": [
       "<matplotlib.figure.Figure at 0x10e172ef0>"
      ]
     },
     "metadata": {
      "image/png": {
       "height": 297,
       "width": 334
      }
     },
     "output_type": "display_data"
    }
   ],
   "source": [
    "f = plt.figure(figsize=(4.6,4.3))\n",
    "ax = f.add_subplot(111)\n",
    "plt.plot( df['n_F'], df['E_int'], 'o', color=light_blue, clip_on=False, zorder=10 )\n",
    "plt.axhline( anatase_intercalation_energy, linestyle='--' )\n",
    "plt.xticks( [ 0, 1, 2, 3, 4 ], [ r'4OH', '3OH + F','2OH + 2F','OH + 3F','4F'] )\n",
    "plt.xlim( 0, 4 )\n",
    "plt.yticks( [ -3.0, -2.5, -2.0, -1.5, -1.0 ] )\n",
    "plt.ylim( -3, -1 )\n",
    "plt.grid( axis='x', color='grey', linestyle='--')\n",
    "plt.ylabel( 'Intercalation energy [eV]' )\n",
    "plt.xlabel( r'Coordination anions, $X$,  in TiO$_2X_4$.' )\n",
    "plt.savefig( '../figures/Li_intercalation_energies.pdf' )"
   ]
  }
 ],
 "metadata": {
  "kernelspec": {
   "display_name": "Python 3",
   "language": "python",
   "name": "python3"
  },
  "language_info": {
   "codemirror_mode": {
    "name": "ipython",
    "version": 3
   },
   "file_extension": ".py",
   "mimetype": "text/x-python",
   "name": "python",
   "nbconvert_exporter": "python",
   "pygments_lexer": "ipython3",
   "version": "3.6.1"
  }
 },
 "nbformat": 4,
 "nbformat_minor": 2
}
